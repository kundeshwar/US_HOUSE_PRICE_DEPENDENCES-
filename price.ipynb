{
 "cells": [
  {
   "attachments": {},
   "cell_type": "markdown",
   "id": "53a1249e",
   "metadata": {},
   "source": [
    "# Housing prices\n",
    "\n",
    "Real estate has the image of being a tangible asset that comprises the property and the land on which it is built. Due to this reason, it is a significant portion of most people’s wealth. And this is very true for the people residing in the United States\n",
    "\n",
    "![title](d&s.webp)\n",
    "\n",
    "supply and demand\n",
    "These are the root cause on which the housing prices depend(which makes the first level MECE)\n",
    "If supply is relatively more than the demand, houses are abundant for sale, but no one to buy them the houses will sell for dirt cheap prices or much less than the asking price.And if the demand is more than the supply, more people buy but fewer houses to sell, which means multiple buyers biding on a single property, it is bound to sell for much higher than the asking price."
   ]
  },
  {
   "cell_type": "markdown",
   "id": "c640bc7b",
   "metadata": {},
   "source": [
    "# Supply\n",
    "\n",
    "The supply of the houses depends upon two factors, “permission to build” and “time and cost to build,” which can be broken down further into many other factors. And finally, the leaf nodes are the hypotheses that either support the supply or are against the supply. The leaf nodes with a green border will help increase the supply, while the red ones will decrease the supply.\n",
    "\n",
    "![title](supply.webp)\n",
    "![title](supply_1.webp)\n",
    "![title](supply_2.webp)\n",
    "\n",
    "From the below figures, it's okay to conclude that most of the hypotheses support the increase in supply, so it's safe to say that price will decrease,Mainly because of two reasons:\n",
    "\n",
    "1. All the hypotheses are not equally weighted, which means some would matter more than others based on the time and situation. But that's not it\n",
    "2. Remember, supply and demand are relative, so we would have to look at the demand for housing to take an educated guess on which hypothesis should be given more importance to make a final call."
   ]
  },
  {
   "cell_type": "markdown",
   "id": "f05c5026",
   "metadata": {},
   "source": [
    "# Demand \n",
    "\n",
    "The demand for houses depends upon wage and Trends, which can be broken down into smaller factors. As you can see, all the leaf nodes have a green border, which means all the hypotheses support the increase in house demand.\n",
    "\n",
    "![title](demand.webp)\n",
    "\n",
    "I have added a few more snapshots of the subtrees for better readability:\n",
    "\n",
    "![title](demand_1.webp)\n",
    "![title](demand_2.webp)\n",
    "\n",
    "Now that we have both supply and demand perspectives under our belt, we can take a better guess on which hypotheses should be weighted higher than others and then decide whether supply or demand would overpower each other or not."
   ]
  },
  {
   "cell_type": "markdown",
   "id": "dd01795b",
   "metadata": {},
   "source": [
    "# Supply vs Demand\n",
    "\n",
    "In the case of demand, all the hypotheses have an immediate impact. For example, trends change fast, and due to covid, the whole world was pushed into the new normal of working remotely. Same for the wage growth, the demographic is affecting it right now, and inflation and recession are building up at this instant. But in the case of supply, there is only one factor with hypotheses that have an immediate impact, that too against the growth of supply, which is labor. All other factors supporting supply growth are slow growing and will have an impact in the near future.\n",
    "\n",
    "In easy words, building houses, however great the technology gets and smooth the bills and permit processes get, will take time. Whereas the fluctuations in demands are immediate. Hence, the house market prices will go to the moon for now! \n",
    "\n",
    "## Price Equilibrium\n",
    "\n",
    "![title](price_equalibrum.webp)\n",
    "\n",
    "As you can see, the market demand curve shows a downward trend with an increase in the number of houses, and the supply curve does the exact opposite. And the point where the two curves meet is called the Equilibrium quantity, where the price will settle. At the equilibrium price, suppliers of the good can sell as much as they wish, and demanders of the good can buy as much as they wish. There are no disappointed buyers or sellers.\n",
    "\n",
    "And the housing market will likely reach its equilibrium in a few years when the housing prices get so high that the bidders cannot afford them, and the sellers have to alter their behavior and sell the houses below their asking price. This is somewhat similar to the great recession that was caused due to the law of demand and supply in the case of the housing market, which led to a massive market crash."
   ]
  }
 ],
 "metadata": {
  "kernelspec": {
   "display_name": "Python 3 (ipykernel)",
   "language": "python",
   "name": "python3"
  },
  "language_info": {
   "codemirror_mode": {
    "name": "ipython",
    "version": 3
   },
   "file_extension": ".py",
   "mimetype": "text/x-python",
   "name": "python",
   "nbconvert_exporter": "python",
   "pygments_lexer": "ipython3",
   "version": "3.11.0"
  }
 },
 "nbformat": 4,
 "nbformat_minor": 5
}
